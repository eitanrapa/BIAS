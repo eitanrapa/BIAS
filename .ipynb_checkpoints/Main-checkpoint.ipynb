{
 "cells": [
  {
   "cell_type": "code",
   "execution_count": 1,
   "id": "2c68e6d1",
   "metadata": {},
   "outputs": [],
   "source": [
    "import parameter_creation as pc\n",
    "import projections as projs\n",
    "import SIFT_classes as SIFT"
   ]
  },
  {
   "cell_type": "markdown",
   "id": "bbb2bd2e",
   "metadata": {},
   "source": [
    "# Create or load parameter file"
   ]
  },
  {
   "cell_type": "code",
   "execution_count": 2,
   "id": "42f319f3142fa52c",
   "metadata": {},
   "outputs": [
    {
     "name": "stderr",
     "output_type": "stream",
     "text": [
      "/home/bolocam/erapaport/Spectro_Imaging_Forecasting_Tool/parameter_creation.py:41: RuntimeWarning: invalid value encountered in true_divide\n",
      "  ClTT = DlTT * 2 * np.pi / (ell * (ell + 1.))\n"
     ]
    }
   ],
   "source": [
    "pc.create_parameter_file(cmb_resolution = 3.0, file_name = 'parameter_file_500')"
   ]
  },
  {
   "cell_type": "markdown",
   "id": "d95f1834",
   "metadata": {},
   "source": [
    "# Run Script"
   ]
  },
  {
   "cell_type": "code",
   "execution_count": null,
   "id": "3683756d",
   "metadata": {},
   "outputs": [],
   "source": [
    "# # Band resolutions\n",
    "# # Hybrid 3-3-5 \n",
    "# # Band resolutions for SOFTS\n",
    "# res1 = 17\n",
    "# res2 = 39\n",
    "# res3 = 26\n",
    "# res4 = 27\n",
    "# res5 = 30#22\n",
    "\n",
    "# Bands_list_hybrid_second_band = [{'name':'Band 1','nu_meanGHz':145,'FBW':0.3,'nu_resGHz':res1,'N_pixels':pix1},\\\n",
    "#       {'name':'Band 2','nu_meanGHz':250,'FBW':0.4,'nu_resGHz':res2,'N_pixels':pix2},\\\n",
    "#       {'name':'Band 3','nu_meanGHz':365,'FBW':0.18,'nu_resGHz':res3,'N_pixels':pix3},\\\n",
    "#       {'name':'Band 4','nu_meanGHz':460,'FBW':0.15,'nu_resGHz':res4,'N_pixels':pix4},\\\n",
    "#       {'name':'Band 5','nu_meanGHz':890,'FBW':0.112,'nu_resGHz':res5,'N_pixels':pix5}]"
   ]
  },
  {
   "cell_type": "code",
   "execution_count": null,
   "id": "780ab8b1",
   "metadata": {},
   "outputs": [],
   "source": [
    "Bands_photometric = [{'name':'Band 1','nu_meanGHz':145,'rms':0.36,'type':'OLIMPO'},\\\n",
    "       {'name':'Band 2','nu_meanGHz':250,'rms':0.36,'type':'OLIMPO'},\\\n",
    "       {'name':'Band 3','nu_meanGHz':365,'rms':0.70,'type':'OLIMPO'},\\\n",
    "       {'name':'Band 4','nu_meanGHz':460,'rms':1.76,'type':'OLIMPO'}]"
   ]
  },
  {
   "cell_type": "code",
   "execution_count": null,
   "id": "c7974a92",
   "metadata": {},
   "outputs": [],
   "source": [
    "# List of cluster y-values to explore\n",
    "y = [5.4E-05]\n",
    "     \n",
    "# List of cluster electron temperatures to explore\n",
    "electron_temperature = [5.0] #KeV   \n",
    "     \n",
    "# Constant fiducial velocity of 0\n",
    "peculiar_vel = 1e-11 #km/s\n",
    "betac = [peculiar_vel/(3e5)]\n",
    "     \n",
    "run_name = ['test_012']\n",
    "\n",
    "# Integration times for each run\n",
    "times = [288000] #Seconds\n",
    "     \n",
    "# Loop over runs, define number of processors to use\n",
    "for i in range(1):\n",
    "    siftclass = SIFT.Spectral_Simulation(y[i], electron_temperature[i], peculiar_vel, Bands_photometric, times[i])\n",
    "    siftclass.run_sim(run_name[i], processors_pool = 30, realizations = 100)"
   ]
  }
 ],
 "metadata": {
  "kernelspec": {
   "display_name": "Python 3",
   "language": "python",
   "name": "python3"
  },
  "language_info": {
   "codemirror_mode": {
    "name": "ipython",
    "version": 3
   },
   "file_extension": ".py",
   "mimetype": "text/x-python",
   "name": "python",
   "nbconvert_exporter": "python",
   "pygments_lexer": "ipython3",
   "version": "3.6.8"
  }
 },
 "nbformat": 4,
 "nbformat_minor": 5
}
